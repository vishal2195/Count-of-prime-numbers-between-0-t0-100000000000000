{
 "cells": [
  {
   "cell_type": "code",
   "execution_count": 42,
   "id": "67f0871a",
   "metadata": {},
   "outputs": [],
   "source": [
    "#with using function:\n",
    "def prime_count(lower,upper):\n",
    "    c = 0\n",
    "    for n in range(lower,upper+1):\n",
    "        for i in range(2,n):\n",
    "            if (n%i== 0):\n",
    "                 break\n",
    "        else:\n",
    "            c+=1\n",
    "            \n",
    "            \n"
   ]
  },
  {
   "cell_type": "code",
   "execution_count": null,
   "id": "3f09a6d8",
   "metadata": {},
   "outputs": [],
   "source": [
    "prime_count(0,100000000000000)"
   ]
  },
  {
   "cell_type": "code",
   "execution_count": null,
   "id": "3aaa29ea",
   "metadata": {},
   "outputs": [],
   "source": [
    "# without using function:\n",
    "numr = int(input(\"Enter range:\"))\n",
    "c = 0\n",
    "for n in range(1,numr):\n",
    "    for i in range(2,n):\n",
    "        if (n%i== 0):\n",
    "            break\n",
    "    else:\n",
    "        c+=1\n",
    "            \n",
    "        \n",
    "            "
   ]
  },
  {
   "cell_type": "code",
   "execution_count": 40,
   "id": "705acfd3",
   "metadata": {},
   "outputs": [
    {
     "data": {
      "text/plain": [
       "5"
      ]
     },
     "execution_count": 40,
     "metadata": {},
     "output_type": "execute_result"
    }
   ],
   "source": [
    "c"
   ]
  },
  {
   "cell_type": "code",
   "execution_count": null,
   "id": "e9803069",
   "metadata": {},
   "outputs": [],
   "source": []
  },
  {
   "cell_type": "code",
   "execution_count": null,
   "id": "65e3fb4b",
   "metadata": {},
   "outputs": [],
   "source": []
  }
 ],
 "metadata": {
  "kernelspec": {
   "display_name": "Python 3 (ipykernel)",
   "language": "python",
   "name": "python3"
  },
  "language_info": {
   "codemirror_mode": {
    "name": "ipython",
    "version": 3
   },
   "file_extension": ".py",
   "mimetype": "text/x-python",
   "name": "python",
   "nbconvert_exporter": "python",
   "pygments_lexer": "ipython3",
   "version": "3.9.7"
  }
 },
 "nbformat": 4,
 "nbformat_minor": 5
}
